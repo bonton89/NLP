{
 "cells": [
  {
   "cell_type": "code",
   "execution_count": 25,
   "id": "b4ba2f4f",
   "metadata": {},
   "outputs": [],
   "source": [
    "from azure.storage.blob import BlobServiceClient\n",
    "import pandas as pd"
   ]
  },
  {
   "cell_type": "markdown",
   "id": "ca53a801",
   "metadata": {},
   "source": [
    "### Reading file from Blob Storage"
   ]
  },
  {
   "cell_type": "code",
   "execution_count": 30,
   "id": "c735f88e",
   "metadata": {},
   "outputs": [],
   "source": [
    "STORAGEACCOUNTURL= 'https://znefit1#####devstg.blob.core.windows.net'# link fetched from properties\n",
    "STORAGEACCOUNTKEY= 'FL/DsL5ZFFnBTLoG/lqhAjUhmlJ4bmG4kH6RikwxhWJc1CG8RjZ3L23/7jqocbMxfBfI3Q=='\n",
    "LOCALFILENAME= './New_NM_UC_UA.xlsx'\n",
    "CONTAINERNAME= 'iscompute'\n",
    "BLOBNAME= 'New_NM_UC_UA.xlsx'\n",
    "\n",
    "#download from blob\n",
    "blob_service_client_instance = BlobServiceClient(account_url=STORAGEACCOUNTURL, credential=STORAGEACCOUNTKEY)\n",
    "blob_client_instance = blob_service_client_instance.get_blob_client(CONTAINERNAME, BLOBNAME, snapshot=None)\n",
    "with open(LOCALFILENAME, \"wb\") as my_blob:\n",
    "    blob_data = blob_client_instance.download_blob()\n",
    "    blob_data.readinto(my_blob)"
   ]
  },
  {
   "cell_type": "markdown",
   "id": "54dbed92",
   "metadata": {},
   "source": [
    "### Upload file in Blob Storage"
   ]
  },
  {
   "cell_type": "code",
   "execution_count": 31,
   "id": "03881e7f",
   "metadata": {},
   "outputs": [],
   "source": [
    "connect_str = 'DefaultEndpointsProtocol=https;AccountName=znefit####evstg;AccountKey=wRu4dyCsSn0jBmg2Fgcp83pA9FCXnsTKoF0ZNrqEIFUDlaOfj99QXZZYwiLDxnwevAU7DgtixTT5gIR+giBqrA==;EndpointSuffix=core.windows.net'\n",
    "blob_service_client = BlobServiceClient.from_connection_string(connect_str)\n",
    "container_name = 'mloutput'\n",
    "upload_file_path = './stopwords.txt'\n",
    "local_file_name = 'stopwords.txt'\n",
    "blob_client = blob_service_client.get_blob_client(container=container_name, blob=local_file_name)\n",
    "with open(upload_file_path, \"rb\") as data:\n",
    "    blob_client.upload_blob(data)"
   ]
  },
  {
   "cell_type": "code",
   "execution_count": null,
   "id": "c3abc328",
   "metadata": {},
   "outputs": [],
   "source": []
  }
 ],
 "metadata": {
  "kernelspec": {
   "display_name": "Python 3 (ipykernel)",
   "language": "python",
   "name": "python3"
  },
  "language_info": {
   "codemirror_mode": {
    "name": "ipython",
    "version": 3
   },
   "file_extension": ".py",
   "mimetype": "text/x-python",
   "name": "python",
   "nbconvert_exporter": "python",
   "pygments_lexer": "ipython3",
   "version": "3.9.7"
  }
 },
 "nbformat": 4,
 "nbformat_minor": 5
}
