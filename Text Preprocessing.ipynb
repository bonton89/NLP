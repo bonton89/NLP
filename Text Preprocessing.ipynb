{
 "cells": [
  {
   "cell_type": "code",
   "execution_count": null,
   "id": "e0f39564",
   "metadata": {},
   "outputs": [],
   "source": [
    "import pandas as pd\n",
    "import numpy as np\n",
    "import re\n",
    "from re import search\n",
    "\n",
    "\n",
    "import nltk\n",
    "import spacy\n",
    "from nltk.corpus import wordnet\n",
    "from nltk import word_tokenize"
   ]
  },
  {
   "cell_type": "code",
   "execution_count": null,
   "id": "40ec4b59",
   "metadata": {},
   "outputs": [],
   "source": [
    "import warnings\n",
    "warnings.filterwarnings(\"ignore\")"
   ]
  },
  {
   "cell_type": "code",
   "execution_count": null,
   "id": "c79c799b",
   "metadata": {},
   "outputs": [],
   "source": [
    "df['Description']=df['Description'].astype(str)"
   ]
  },
  {
   "cell_type": "code",
   "execution_count": null,
   "id": "6ede8d1f",
   "metadata": {},
   "outputs": [],
   "source": [
    "#Clean new rows or new lines\n",
    "def clean_data(text):\n",
    "    text=text.replace('\\\\r',' ')\n",
    "    text=text.replace('\\\\n',' ')\n",
    "    text=text.replace('$','dollarmoney')\n",
    "    text=text.replace('\\r',' ')\n",
    "    text=text.replace('\\n',' ')\n",
    "    text=text.replace('\\\\t',' ')\n",
    "    text=text.replace('\\t',' ')\n",
    "    text=text.replace('\\\\xa0',' ')\n",
    "    #text=text.replace('')\n",
    "    \n",
    "    while '  ' in text:\n",
    "        text=text.replace('  ',' ')\n",
    "    \n",
    "    return text"
   ]
  },
  {
   "cell_type": "code",
   "execution_count": null,
   "id": "d48b8d38",
   "metadata": {},
   "outputs": [],
   "source": [
    "def preprocess_data(text):\n",
    "    # remove email id\n",
    "    cleanr = re.compile('\\S*@\\S*\\s?')\n",
    "    text = re.sub(cleanr, ' ', text)\n",
    "        \n",
    "    # remove url \n",
    "    cleanr = re.compile('<.*?>')\n",
    "    text = re.sub(cleanr, ' ', text)\n",
    "    text = re.sub(r'http\\S+', ' ', text)\n",
    "    \n",
    "    # remove emojis\n",
    "    regrex_pattern = re.compile(pattern = \"[\"\n",
    "        u\"\\U0001F600-\\U0001F64F\"  # emoticons\n",
    "        u\"\\U0001F300-\\U0001F5FF\"  # symbols & pictographs\n",
    "        u\"\\U0001F680-\\U0001F6FF\"  # transport & map symbols\n",
    "        u\"\\U0001F1E0-\\U0001F1FF\"  # flags (iOS)\n",
    "                           \"]+\", flags = re.UNICODE)\n",
    "    text=regrex_pattern.sub(r'',text)\n",
    "\n",
    "    #limit only to letters\n",
    "    text=re.sub('[^A-Za-z ]+',' ', text)\n",
    "    \n",
    "    # Lower Case\n",
    "    text=text.lower()\n",
    "    \n",
    "    while '  ' in text:\n",
    "        text=text.replace('  ',' ')\n",
    "    \n",
    "    return text"
   ]
  },
  {
   "cell_type": "code",
   "execution_count": null,
   "id": "c895a47d",
   "metadata": {},
   "outputs": [],
   "source": [
    "df['Description'] = df['Description'].apply(clean_data)\n",
    "df['Description'] = df['Description'].apply(preprocess_data)"
   ]
  },
  {
   "cell_type": "code",
   "execution_count": null,
   "id": "56b384ab",
   "metadata": {},
   "outputs": [],
   "source": []
  },
  {
   "cell_type": "code",
   "execution_count": null,
   "id": "0038c5e6",
   "metadata": {},
   "outputs": [],
   "source": []
  },
  {
   "cell_type": "code",
   "execution_count": null,
   "id": "c9dbc079",
   "metadata": {},
   "outputs": [],
   "source": []
  }
 ],
 "metadata": {
  "kernelspec": {
   "display_name": "Python 3 (ipykernel)",
   "language": "python",
   "name": "python3"
  },
  "language_info": {
   "codemirror_mode": {
    "name": "ipython",
    "version": 3
   },
   "file_extension": ".py",
   "mimetype": "text/x-python",
   "name": "python",
   "nbconvert_exporter": "python",
   "pygments_lexer": "ipython3",
   "version": "3.9.7"
  }
 },
 "nbformat": 4,
 "nbformat_minor": 5
}
