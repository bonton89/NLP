{
 "cells": [
  {
   "cell_type": "code",
   "execution_count": 1,
   "id": "b8299ac0",
   "metadata": {},
   "outputs": [],
   "source": [
    "import pandas as pd\n",
    "import numpy as np\n",
    "import re\n",
    "from re import search\n",
    "\n",
    "\n",
    "import nltk\n",
    "import spacy\n",
    "from nltk.corpus import wordnet\n",
    "from nltk import word_tokenize"
   ]
  },
  {
   "cell_type": "markdown",
   "id": "9bf43003",
   "metadata": {},
   "source": [
    "### Use Case 1: Categorise between gmail (personal) emails and offical emails"
   ]
  },
  {
   "cell_type": "code",
   "execution_count": 3,
   "id": "757d5f9e",
   "metadata": {},
   "outputs": [],
   "source": [
    "mail_1= \"From: ujjwal.nanda@gmail.com To: support@amazon.com \\\n",
    "        Hi Team \\\n",
    "        Just wanted to know the details of my order 12131\\\n",
    "        Kinldy let me know when it will reach my place. \"\n",
    "       \n",
    "mail_2= \"From: arun.lal@espn.com To: support@amazon.com \\\n",
    "        Hi Team \\\n",
    "        Just wanted to know the details of my order 12131\\\n",
    "        Kinldy let me know when it will reach my place. \""
   ]
  },
  {
   "cell_type": "code",
   "execution_count": 5,
   "id": "6b94578e",
   "metadata": {},
   "outputs": [],
   "source": [
    "#create check email function\n",
    "def check_mail(text):\n",
    "    flag='NA'\n",
    "    try:\n",
    "        s=(\"\\S+@+\\S+.com\")# pattern for extracting any email id ending with .com\n",
    "        l=re.findall(s,text.lower())\n",
    "        print(l)\n",
    "        if re.match(r\"\\S+@gmail.com\", l[0]):# matching with gmail\n",
    "            flag='Personal Email'\n",
    "        else :\n",
    "            flag='Official Email'\n",
    "    except:\n",
    "        flag=\"exp\"\n",
    "    return flag\n"
   ]
  },
  {
   "cell_type": "code",
   "execution_count": 6,
   "id": "bafd9597",
   "metadata": {},
   "outputs": [
    {
     "name": "stdout",
     "output_type": "stream",
     "text": [
      "['ujjwal.nanda@gmail.com', 'support@amazon.com']\n"
     ]
    }
   ],
   "source": [
    "email=check_mail(mail_1)"
   ]
  },
  {
   "cell_type": "code",
   "execution_count": 9,
   "id": "1eb23166",
   "metadata": {},
   "outputs": [
    {
     "name": "stdout",
     "output_type": "stream",
     "text": [
      "Email is coming from : Personal Email\n"
     ]
    }
   ],
   "source": [
    "print(\"Email is coming from :\",email)"
   ]
  },
  {
   "cell_type": "code",
   "execution_count": null,
   "id": "d5816c85",
   "metadata": {},
   "outputs": [],
   "source": []
  }
 ],
 "metadata": {
  "kernelspec": {
   "display_name": "Python 3 (ipykernel)",
   "language": "python",
   "name": "python3"
  },
  "language_info": {
   "codemirror_mode": {
    "name": "ipython",
    "version": 3
   },
   "file_extension": ".py",
   "mimetype": "text/x-python",
   "name": "python",
   "nbconvert_exporter": "python",
   "pygments_lexer": "ipython3",
   "version": "3.9.7"
  }
 },
 "nbformat": 4,
 "nbformat_minor": 5
}
